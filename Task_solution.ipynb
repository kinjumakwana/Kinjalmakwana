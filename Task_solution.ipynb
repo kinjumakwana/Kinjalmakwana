{
  "nbformat": 4,
  "nbformat_minor": 0,
  "metadata": {
    "colab": {
      "name": "Task_solution.ipynb",
      "provenance": [],
      "collapsed_sections": []
    },
    "kernelspec": {
      "name": "python3",
      "display_name": "Python 3"
    },
    "language_info": {
      "name": "python"
    }
  },
  "cells": [
    {
      "cell_type": "code",
      "execution_count": null,
      "metadata": {
        "colab": {
          "base_uri": "https://localhost:8080/"
        },
        "id": "Ahk--UlCdQ2I",
        "outputId": "748f267e-7587-428a-cca4-a8c199b3ec68"
      },
      "outputs": [
        {
          "output_type": "stream",
          "name": "stdout",
          "text": [
            "['__add__', '__class__', '__contains__', '__delattr__', '__dir__', '__doc__', '__eq__', '__format__', '__ge__', '__getattribute__', '__getitem__', '__getnewargs__', '__gt__', '__hash__', '__init__', '__init_subclass__', '__iter__', '__le__', '__len__', '__lt__', '__mod__', '__mul__', '__ne__', '__new__', '__reduce__', '__reduce_ex__', '__repr__', '__rmod__', '__rmul__', '__setattr__', '__sizeof__', '__str__', '__subclasshook__', 'capitalize', 'casefold', 'center', 'count', 'encode', 'endswith', 'expandtabs', 'find', 'format', 'format_map', 'index', 'isalnum', 'isalpha', 'isascii', 'isdecimal', 'isdigit', 'isidentifier', 'islower', 'isnumeric', 'isprintable', 'isspace', 'istitle', 'isupper', 'join', 'ljust', 'lower', 'lstrip', 'maketrans', 'partition', 'replace', 'rfind', 'rindex', 'rjust', 'rpartition', 'rsplit', 'rstrip', 'split', 'splitlines', 'startswith', 'strip', 'swapcase', 'title', 'translate', 'upper', 'zfill']\n"
          ]
        }
      ],
      "source": [
        "# dir()\n",
        "\n",
        "print(dir(str))"
      ]
    },
    {
      "cell_type": "code",
      "source": [
        "for i in dir(str):\n",
        "  print(i)"
      ],
      "metadata": {
        "colab": {
          "base_uri": "https://localhost:8080/"
        },
        "id": "lRBAId87d21Z",
        "outputId": "da3c5cf4-a63c-4263-d109-baca22a9ce76"
      },
      "execution_count": null,
      "outputs": [
        {
          "output_type": "stream",
          "name": "stdout",
          "text": [
            "__add__\n",
            "__class__\n",
            "__contains__\n",
            "__delattr__\n",
            "__dir__\n",
            "__doc__\n",
            "__eq__\n",
            "__format__\n",
            "__ge__\n",
            "__getattribute__\n",
            "__getitem__\n",
            "__getnewargs__\n",
            "__gt__\n",
            "__hash__\n",
            "__init__\n",
            "__init_subclass__\n",
            "__iter__\n",
            "__le__\n",
            "__len__\n",
            "__lt__\n",
            "__mod__\n",
            "__mul__\n",
            "__ne__\n",
            "__new__\n",
            "__reduce__\n",
            "__reduce_ex__\n",
            "__repr__\n",
            "__rmod__\n",
            "__rmul__\n",
            "__setattr__\n",
            "__sizeof__\n",
            "__str__\n",
            "__subclasshook__\n",
            "capitalize\n",
            "casefold\n",
            "center\n",
            "count\n",
            "encode\n",
            "endswith\n",
            "expandtabs\n",
            "find\n",
            "format\n",
            "format_map\n",
            "index\n",
            "isalnum\n",
            "isalpha\n",
            "isascii\n",
            "isdecimal\n",
            "isdigit\n",
            "isidentifier\n",
            "islower\n",
            "isnumeric\n",
            "isprintable\n",
            "isspace\n",
            "istitle\n",
            "isupper\n",
            "join\n",
            "ljust\n",
            "lower\n",
            "lstrip\n",
            "maketrans\n",
            "partition\n",
            "replace\n",
            "rfind\n",
            "rindex\n",
            "rjust\n",
            "rpartition\n",
            "rsplit\n",
            "rstrip\n",
            "split\n",
            "splitlines\n",
            "startswith\n",
            "strip\n",
            "swapcase\n",
            "title\n",
            "translate\n",
            "upper\n",
            "zfill\n"
          ]
        }
      ]
    },
    {
      "cell_type": "code",
      "source": [
        "l = []\n",
        "for i in dir(str):\n",
        "  if not i.startswith('_') and not i.endswith('_'):\n",
        "    l.append(i)\n",
        "else:\n",
        "  print(l)"
      ],
      "metadata": {
        "colab": {
          "base_uri": "https://localhost:8080/"
        },
        "id": "H3Y_V0ONeKs4",
        "outputId": "82366d7e-d224-4eda-cb44-63dbc2d9a197"
      },
      "execution_count": null,
      "outputs": [
        {
          "output_type": "stream",
          "name": "stdout",
          "text": [
            "['capitalize', 'casefold', 'center', 'count', 'encode', 'endswith', 'expandtabs', 'find', 'format', 'format_map', 'index', 'isalnum', 'isalpha', 'isascii', 'isdecimal', 'isdigit', 'isidentifier', 'islower', 'isnumeric', 'isprintable', 'isspace', 'istitle', 'isupper', 'join', 'ljust', 'lower', 'lstrip', 'maketrans', 'partition', 'replace', 'rfind', 'rindex', 'rjust', 'rpartition', 'rsplit', 'rstrip', 'split', 'splitlines', 'startswith', 'strip', 'swapcase', 'title', 'translate', 'upper', 'zfill']\n"
          ]
        }
      ]
    },
    {
      "cell_type": "code",
      "source": [
        "def filtered_dir(obj):\n",
        "  l = []\n",
        "  for i in dir(obj):\n",
        "    if not i.startswith('_') and not i.endswith('_'):\n",
        "      l.append(i)\n",
        "  else:\n",
        "    return l"
      ],
      "metadata": {
        "id": "5VfFPb5neabH"
      },
      "execution_count": null,
      "outputs": []
    },
    {
      "cell_type": "code",
      "source": [
        "filtered_dir(str)"
      ],
      "metadata": {
        "colab": {
          "base_uri": "https://localhost:8080/"
        },
        "id": "gjtYNsjTfGjh",
        "outputId": "2c15e196-6293-4de6-ea1a-b1299e5a8cdf"
      },
      "execution_count": null,
      "outputs": [
        {
          "output_type": "execute_result",
          "data": {
            "text/plain": [
              "['capitalize',\n",
              " 'casefold',\n",
              " 'center',\n",
              " 'count',\n",
              " 'encode',\n",
              " 'endswith',\n",
              " 'expandtabs',\n",
              " 'find',\n",
              " 'format',\n",
              " 'format_map',\n",
              " 'index',\n",
              " 'isalnum',\n",
              " 'isalpha',\n",
              " 'isascii',\n",
              " 'isdecimal',\n",
              " 'isdigit',\n",
              " 'isidentifier',\n",
              " 'islower',\n",
              " 'isnumeric',\n",
              " 'isprintable',\n",
              " 'isspace',\n",
              " 'istitle',\n",
              " 'isupper',\n",
              " 'join',\n",
              " 'ljust',\n",
              " 'lower',\n",
              " 'lstrip',\n",
              " 'maketrans',\n",
              " 'partition',\n",
              " 'replace',\n",
              " 'rfind',\n",
              " 'rindex',\n",
              " 'rjust',\n",
              " 'rpartition',\n",
              " 'rsplit',\n",
              " 'rstrip',\n",
              " 'split',\n",
              " 'splitlines',\n",
              " 'startswith',\n",
              " 'strip',\n",
              " 'swapcase',\n",
              " 'title',\n",
              " 'translate',\n",
              " 'upper',\n",
              " 'zfill']"
            ]
          },
          "metadata": {},
          "execution_count": 6
        }
      ]
    },
    {
      "cell_type": "code",
      "source": [
        "# index viewer\n",
        "\n",
        "string = 'welcometopython'"
      ],
      "metadata": {
        "id": "gSvhECNLfIKn"
      },
      "execution_count": null,
      "outputs": []
    },
    {
      "cell_type": "code",
      "source": [
        "for s in string:\n",
        "  print(s, end=\"|\")"
      ],
      "metadata": {
        "colab": {
          "base_uri": "https://localhost:8080/"
        },
        "id": "NT4BM282fUJ_",
        "outputId": "4e1ae72a-3864-4d4e-ad0c-152fb291f497"
      },
      "execution_count": null,
      "outputs": [
        {
          "output_type": "stream",
          "name": "stdout",
          "text": [
            "w|e|l|c|o|m|e|t|o|p|y|t|h|o|n|"
          ]
        }
      ]
    },
    {
      "cell_type": "code",
      "source": [
        "for s in string:\n",
        "  print(string.index(s), end=\"|\")"
      ],
      "metadata": {
        "colab": {
          "base_uri": "https://localhost:8080/"
        },
        "id": "ZP_OEPA8fYJ4",
        "outputId": "7a243ee8-4cc6-4542-d01d-533a83777f39"
      },
      "execution_count": null,
      "outputs": [
        {
          "output_type": "stream",
          "name": "stdout",
          "text": [
            "0|1|2|3|4|5|1|7|4|9|10|7|12|4|14|"
          ]
        }
      ]
    },
    {
      "cell_type": "code",
      "source": [
        "len(string)"
      ],
      "metadata": {
        "colab": {
          "base_uri": "https://localhost:8080/"
        },
        "id": "0_sqHKwLf7cd",
        "outputId": "44df3325-592b-4921-d11d-307556afa3ff"
      },
      "execution_count": null,
      "outputs": [
        {
          "output_type": "execute_result",
          "data": {
            "text/plain": [
              "15"
            ]
          },
          "metadata": {},
          "execution_count": 11
        }
      ]
    },
    {
      "cell_type": "code",
      "source": [
        "for s in range(len(string)):\n",
        "  print(s, end=\"|\")"
      ],
      "metadata": {
        "colab": {
          "base_uri": "https://localhost:8080/"
        },
        "id": "osa84MlPfnoc",
        "outputId": "6afa78bd-e4bc-4a77-c31b-71a1628140bd"
      },
      "execution_count": null,
      "outputs": [
        {
          "output_type": "stream",
          "name": "stdout",
          "text": [
            "0|1|2|3|4|5|6|7|8|9|10|11|12|13|14|"
          ]
        }
      ]
    },
    {
      "cell_type": "code",
      "source": [
        "for s in string:\n",
        "  print(s, end=\"|\")\n",
        "\n",
        "print()\n",
        "\n",
        "for s in range(len(string)):\n",
        "  print(s, end=\"|\")"
      ],
      "metadata": {
        "colab": {
          "base_uri": "https://localhost:8080/"
        },
        "id": "NQg2mq-XgCH2",
        "outputId": "d1cf71e5-8f09-4f1c-e717-d8492a8626f8"
      },
      "execution_count": null,
      "outputs": [
        {
          "output_type": "stream",
          "name": "stdout",
          "text": [
            "w|e|l|c|o|m|e|t|o|p|y|t|h|o|n|\n",
            "0|1|2|3|4|5|6|7|8|9|10|11|12|13|14|"
          ]
        }
      ]
    },
    {
      "cell_type": "code",
      "source": [
        "for i in range(len(string)):\n",
        "  print(string[i], end=\"|\")"
      ],
      "metadata": {
        "colab": {
          "base_uri": "https://localhost:8080/"
        },
        "id": "rBNfr8OLgHZ3",
        "outputId": "41c8d512-e6a6-4274-c215-23b1df4d9d14"
      },
      "execution_count": null,
      "outputs": [
        {
          "output_type": "stream",
          "name": "stdout",
          "text": [
            "w|e|l|c|o|m|e|t|o|p|y|t|h|o|n|"
          ]
        }
      ]
    },
    {
      "cell_type": "code",
      "source": [
        "for i in range(len(string)):\n",
        "  if i < 10:\n",
        "    print(string[i], end=\" | \")\n",
        "  else:\n",
        "    print(f\" {string[i]}\", end=\" | \")\n",
        "else:\n",
        "  print()\n",
        "  print('-' * 65)\n",
        "\n",
        "for s in range(len(string)):\n",
        "  print(s, end=\" | \")"
      ],
      "metadata": {
        "colab": {
          "base_uri": "https://localhost:8080/"
        },
        "id": "2T0_HZiYgcG4",
        "outputId": "769280e5-f832-4d6d-9ca0-4bbbdc5bd44a"
      },
      "execution_count": null,
      "outputs": [
        {
          "output_type": "stream",
          "name": "stdout",
          "text": [
            "w | e | l | c | o | m | e | t | o | p |  y |  t |  h |  o |  n | \n",
            "-----------------------------------------------------------------\n",
            "0 | 1 | 2 | 3 | 4 | 5 | 6 | 7 | 8 | 9 | 10 | 11 | 12 | 13 | 14 | "
          ]
        }
      ]
    },
    {
      "cell_type": "code",
      "source": [
        "def index_viewer(obj):\n",
        "  for i in range(len(obj)):\n",
        "    if i < 10:\n",
        "      print(obj[i], end=\" | \")\n",
        "    else:\n",
        "      print(f\" {obj[i]}\", end=\" | \")\n",
        "  else:\n",
        "    print()\n",
        "    print('-' * (3 * len(obj)))\n",
        "\n",
        "  for s in range(len(obj)):\n",
        "    print(s, end=\" | \")"
      ],
      "metadata": {
        "id": "MZw40eDXgr5v"
      },
      "execution_count": null,
      "outputs": []
    },
    {
      "cell_type": "code",
      "source": [
        "index_viewer('welcometotopstechnologies')"
      ],
      "metadata": {
        "colab": {
          "base_uri": "https://localhost:8080/"
        },
        "id": "ykJb5tP8hw6X",
        "outputId": "dab64727-5171-41b8-e010-d687ca5258b0"
      },
      "execution_count": null,
      "outputs": [
        {
          "output_type": "stream",
          "name": "stdout",
          "text": [
            "w | e | l | c | o | m | e | t | o | t |  o |  p |  s |  t |  e |  c |  h |  n |  o |  l |  o |  g |  i |  e |  s | \n",
            "---------------------------------------------------------------------------\n",
            "0 | 1 | 2 | 3 | 4 | 5 | 6 | 7 | 8 | 9 | 10 | 11 | 12 | 13 | 14 | 15 | 16 | 17 | 18 | 19 | 20 | 21 | 22 | 23 | 24 | "
          ]
        }
      ]
    },
    {
      "cell_type": "code",
      "source": [
        "index_viewer('welcome to tops technologies')"
      ],
      "metadata": {
        "colab": {
          "base_uri": "https://localhost:8080/"
        },
        "id": "kAuoA7y2h1A3",
        "outputId": "31a4bca9-b6e7-4357-d1fc-352b155595f2"
      },
      "execution_count": null,
      "outputs": [
        {
          "output_type": "stream",
          "name": "stdout",
          "text": [
            "w | e | l | c | o | m | e |   | t | o |    |  t |  o |  p |  s |    |  t |  e |  c |  h |  n |  o |  l |  o |  g |  i |  e |  s | \n",
            "------------------------------------------------------------------------------------\n",
            "0 | 1 | 2 | 3 | 4 | 5 | 6 | 7 | 8 | 9 | 10 | 11 | 12 | 13 | 14 | 15 | 16 | 17 | 18 | 19 | 20 | 21 | 22 | 23 | 24 | 25 | 26 | 27 | "
          ]
        }
      ]
    },
    {
      "cell_type": "code",
      "source": [
        "index_viewer([2,1,3,6,5,4,5,2,1])"
      ],
      "metadata": {
        "colab": {
          "base_uri": "https://localhost:8080/"
        },
        "id": "otCNBcttiJaf",
        "outputId": "c9d99f63-438c-411b-c58a-d5ad3c871b91"
      },
      "execution_count": null,
      "outputs": [
        {
          "output_type": "stream",
          "name": "stdout",
          "text": [
            "2 | 1 | 3 | 6 | 5 | 4 | 5 | 2 | 1 | \n",
            "---------------------------\n",
            "0 | 1 | 2 | 3 | 4 | 5 | 6 | 7 | 8 | "
          ]
        }
      ]
    },
    {
      "cell_type": "code",
      "source": [
        "# [\n",
        "#  [2,1,3,6,5,4,5,2,1],\n",
        "#  [0,1,2,3,4,5,6,7,8],\n",
        "# ]"
      ],
      "metadata": {
        "id": "iKPKL6m9iQK_"
      },
      "execution_count": null,
      "outputs": []
    },
    {
      "cell_type": "code",
      "source": [
        "# [{},{}]\n",
        "\n",
        "info = [\n",
        "        {\n",
        "            'name': 'parth',\n",
        "         'city': 'ahmedabad',\n",
        "        },\n",
        "        {\n",
        "            'name': 'meet',\n",
        "         'city': 'surat'\n",
        "        },\n",
        "]"
      ],
      "metadata": {
        "id": "6UTOV9AIi9rZ"
      },
      "execution_count": null,
      "outputs": []
    },
    {
      "cell_type": "code",
      "source": [
        "info"
      ],
      "metadata": {
        "colab": {
          "base_uri": "https://localhost:8080/"
        },
        "id": "fTe9RGXZjnpG",
        "outputId": "485041df-b74a-4bd6-88a2-4bdae2d6e6d4"
      },
      "execution_count": null,
      "outputs": [
        {
          "output_type": "execute_result",
          "data": {
            "text/plain": [
              "[{'city': 'ahmedabad', 'name': 'parth'}, {'city': 'surat', 'name': 'meet'}]"
            ]
          },
          "metadata": {},
          "execution_count": 48
        }
      ]
    },
    {
      "cell_type": "code",
      "source": [
        "for d in info:\n",
        "  print(d)"
      ],
      "metadata": {
        "colab": {
          "base_uri": "https://localhost:8080/"
        },
        "id": "XpcBBHATjqme",
        "outputId": "ae7a2500-e039-44a1-f6fc-96516b251d2c"
      },
      "execution_count": null,
      "outputs": [
        {
          "output_type": "stream",
          "name": "stdout",
          "text": [
            "{'name': 'parth', 'city': 'ahmedabad'}\n",
            "{'name': 'meet', 'city': 'surat'}\n"
          ]
        }
      ]
    },
    {
      "cell_type": "code",
      "source": [
        "for d in info:\n",
        "  for i in d.values():\n",
        "    print(i)"
      ],
      "metadata": {
        "colab": {
          "base_uri": "https://localhost:8080/"
        },
        "id": "zXY9mEMjjwim",
        "outputId": "18c4563a-d1f0-4759-9511-ce06f6c8842c"
      },
      "execution_count": null,
      "outputs": [
        {
          "output_type": "stream",
          "name": "stdout",
          "text": [
            "parth\n",
            "ahmedabad\n",
            "meet\n",
            "surat\n"
          ]
        }
      ]
    },
    {
      "cell_type": "code",
      "source": [
        "for d in info:\n",
        "  for i in d.values():\n",
        "    print(i, end=\" \")\n",
        "  print()"
      ],
      "metadata": {
        "colab": {
          "base_uri": "https://localhost:8080/"
        },
        "id": "m2uWN8DUj-A_",
        "outputId": "10216398-fa6c-471a-8db2-3be454426508"
      },
      "execution_count": null,
      "outputs": [
        {
          "output_type": "stream",
          "name": "stdout",
          "text": [
            "parth ahmedabad \n",
            "meet surat \n"
          ]
        }
      ]
    },
    {
      "cell_type": "code",
      "source": [
        "for i in info[0]:\n",
        "  print(i, end=\"\\t|\\t\")\n",
        "\n",
        "print()\n",
        "\n",
        "for d in info:\n",
        "  for i in d.values():\n",
        "    print(i, end=\"\\t|\\t\")\n",
        "  print()"
      ],
      "metadata": {
        "colab": {
          "base_uri": "https://localhost:8080/"
        },
        "id": "FRZtzOlXkbDQ",
        "outputId": "14cf101d-8551-4249-f648-d71e6da8c0e0"
      },
      "execution_count": null,
      "outputs": [
        {
          "output_type": "stream",
          "name": "stdout",
          "text": [
            "name\t|\tcity\t|\t\n",
            "parth\t|\tahmedabad\t|\t\n",
            "meet\t|\tsurat\t|\t\n"
          ]
        }
      ]
    },
    {
      "cell_type": "code",
      "source": [
        "info2 = {\n",
        "    1 : {'name': 'parth', 'city': 'ahmedabad'},\n",
        "    2 : {'name': 'meet', 'city': 'surat'},\n",
        "}"
      ],
      "metadata": {
        "id": "u2KvEVAekvaX"
      },
      "execution_count": null,
      "outputs": []
    },
    {
      "cell_type": "code",
      "source": [
        "info2[1]"
      ],
      "metadata": {
        "colab": {
          "base_uri": "https://localhost:8080/"
        },
        "id": "-If-uVMOl7zn",
        "outputId": "2ffda872-82a4-46d7-fc84-268e9a43b89d"
      },
      "execution_count": null,
      "outputs": [
        {
          "output_type": "execute_result",
          "data": {
            "text/plain": [
              "{'city': 'ahmedabad', 'name': 'parth'}"
            ]
          },
          "metadata": {},
          "execution_count": 60
        }
      ]
    },
    {
      "cell_type": "code",
      "source": [
        "for d in info2:\n",
        "  print(d)"
      ],
      "metadata": {
        "colab": {
          "base_uri": "https://localhost:8080/"
        },
        "id": "fcb50zvBl_n-",
        "outputId": "96c762a8-72ba-46f2-fa4d-4cd28fdf9561"
      },
      "execution_count": null,
      "outputs": [
        {
          "output_type": "stream",
          "name": "stdout",
          "text": [
            "1\n",
            "2\n"
          ]
        }
      ]
    },
    {
      "cell_type": "code",
      "source": [
        "for d in info2:\n",
        "  # print(info2[d])\n",
        "  \n",
        "  for i in info2[d].values():\n",
        "    print(i, end=\"\\t|\\t\")\n",
        "  print()\n"
      ],
      "metadata": {
        "colab": {
          "base_uri": "https://localhost:8080/"
        },
        "id": "-XYeYWhbmEAc",
        "outputId": "855328f3-6463-49d3-ff37-cf81c0ee8f8b"
      },
      "execution_count": null,
      "outputs": [
        {
          "output_type": "stream",
          "name": "stdout",
          "text": [
            "parth\t|\tahmedabad\t|\t\n",
            "meet\t|\tsurat\t|\t\n"
          ]
        }
      ]
    },
    {
      "cell_type": "code",
      "source": [
        "info = [\n",
        "        {\n",
        "            'name': 'parth',\n",
        "         'city': 'ahmedabad',\n",
        "         'country': '-',\n",
        "        },\n",
        "        {\n",
        "            'name': 'meet',\n",
        "         'city': 'surat',\n",
        "         'country': 'india',\n",
        "        },\n",
        "]\n",
        "\n",
        "for i in info[0]:\n",
        "  print(i, end=\"\\t|\\t\")\n",
        "\n",
        "print()\n",
        "\n",
        "for d in info:\n",
        "  for i in d.values():\n",
        "    print(i, end=\"\\t|\\t\")\n",
        "  print()"
      ],
      "metadata": {
        "id": "lFEGjBrimYnQ",
        "colab": {
          "base_uri": "https://localhost:8080/"
        },
        "outputId": "cf07cb36-32c2-4314-89d8-85f9fc213a46"
      },
      "execution_count": null,
      "outputs": [
        {
          "output_type": "stream",
          "name": "stdout",
          "text": [
            "name\t|\tcity\t|\tcountry\t|\t\n",
            "parth\t|\tahmedabad\t|\t-\t|\t\n",
            "meet\t|\tsurat\t|\tindia\t|\t\n"
          ]
        }
      ]
    },
    {
      "cell_type": "code",
      "source": [
        "task = {\n",
        "    '2': 7894,\n",
        "    7984: 'hello7897',\n",
        "    'names': ['meet','parth','kinjal'],\n",
        "    'cities': {\n",
        "        'gujarat': ['ahmedabad','vadodara','nadiyad'],\n",
        "        'rajasthan': ('ajmer', 'pali', 'jaipur')\n",
        "    }\n",
        "}"
      ],
      "metadata": {
        "id": "rfpjPYzn5_VB"
      },
      "execution_count": null,
      "outputs": []
    },
    {
      "cell_type": "code",
      "source": [
        "task"
      ],
      "metadata": {
        "colab": {
          "base_uri": "https://localhost:8080/"
        },
        "id": "TwfASPwk81Iv",
        "outputId": "1eaa556a-049c-41e5-e7a1-58bf6b3e9cd9"
      },
      "execution_count": null,
      "outputs": [
        {
          "output_type": "execute_result",
          "data": {
            "text/plain": [
              "{'2': 7894,\n",
              " 7984: 'hello7897',\n",
              " 'cities': {'gujarat': ['ahmedabad', 'vadodara', 'nadiyad'],\n",
              "  'rajasthan': ('ajmer', 'pali', 'jaipur')},\n",
              " 'names': ['meet', 'parth', 'kinjal']}"
            ]
          },
          "metadata": {},
          "execution_count": 4
        }
      ]
    },
    {
      "cell_type": "code",
      "source": [
        "a = input('enter to find: ')\n",
        "\n",
        "if a in str(task):\n",
        "  print(True)\n",
        "else:\n",
        "  print(False)"
      ],
      "metadata": {
        "colab": {
          "base_uri": "https://localhost:8080/"
        },
        "id": "NA-AsrjF82Tn",
        "outputId": "ce7971e2-d0e2-4337-80cf-9d6eca0b1fc5"
      },
      "execution_count": null,
      "outputs": [
        {
          "output_type": "stream",
          "name": "stdout",
          "text": [
            "enter to find: vado\n",
            "True\n"
          ]
        }
      ]
    },
    {
      "cell_type": "code",
      "source": [
        "str(task)"
      ],
      "metadata": {
        "colab": {
          "base_uri": "https://localhost:8080/",
          "height": 53
        },
        "id": "faf_od3eCfzo",
        "outputId": "16443d48-61c1-476b-f7e2-1624af2ef9e7"
      },
      "execution_count": null,
      "outputs": [
        {
          "output_type": "execute_result",
          "data": {
            "text/plain": [
              "\"{'2': 7894, 7984: 'hello7897', 'names': ['meet', 'parth', 'kinjal'], 'cities': {'gujarat': ['ahmedabad', 'vadodara', 'nadiyad'], 'rajasthan': ('ajmer', 'pali', 'jaipur')}}\""
            ],
            "application/vnd.google.colaboratory.intrinsic+json": {
              "type": "string"
            }
          },
          "metadata": {},
          "execution_count": 10
        }
      ]
    },
    {
      "cell_type": "code",
      "source": [
        "# bank example\n",
        "\n",
        "bank = {}\n",
        "# account number - auto increment\n",
        "# account details\n",
        "# methods - transactions/check balance/mini statement"
      ],
      "metadata": {
        "id": "et9UZ_i_CwTO"
      },
      "execution_count": null,
      "outputs": []
    },
    {
      "cell_type": "code",
      "source": [
        "preset_acc_num = 7894165000"
      ],
      "metadata": {
        "id": "iKj8jA1kjttW"
      },
      "execution_count": null,
      "outputs": []
    },
    {
      "cell_type": "code",
      "source": [
        "len('') + preset_acc_num"
      ],
      "metadata": {
        "colab": {
          "base_uri": "https://localhost:8080/"
        },
        "id": "K_PV6ajpj6g8",
        "outputId": "e7b93055-dd51-4f36-a0a7-ce939a58ba7a"
      },
      "execution_count": null,
      "outputs": [
        {
          "output_type": "execute_result",
          "data": {
            "text/plain": [
              "7894165000"
            ]
          },
          "metadata": {},
          "execution_count": 3
        }
      ]
    },
    {
      "cell_type": "code",
      "source": [
        "len('') + preset_acc_num + 1"
      ],
      "metadata": {
        "colab": {
          "base_uri": "https://localhost:8080/"
        },
        "id": "3LvnhwvnkF99",
        "outputId": "b1e5072c-b0e2-481d-c059-02ecde58584f"
      },
      "execution_count": null,
      "outputs": [
        {
          "output_type": "execute_result",
          "data": {
            "text/plain": [
              "7894165001"
            ]
          },
          "metadata": {},
          "execution_count": 4
        }
      ]
    },
    {
      "cell_type": "code",
      "source": [
        "len('0') + preset_acc_num + 1"
      ],
      "metadata": {
        "colab": {
          "base_uri": "https://localhost:8080/"
        },
        "id": "A5qWCrYmkJAt",
        "outputId": "3ccf6d64-dd02-48e7-bb11-a38bffbceac5"
      },
      "execution_count": null,
      "outputs": [
        {
          "output_type": "execute_result",
          "data": {
            "text/plain": [
              "7894165002"
            ]
          },
          "metadata": {},
          "execution_count": 5
        }
      ]
    },
    {
      "cell_type": "code",
      "source": [
        "len(bank) + preset_acc_num + 1"
      ],
      "metadata": {
        "colab": {
          "base_uri": "https://localhost:8080/"
        },
        "id": "8eCcIqd6kLSt",
        "outputId": "219d7ad2-f8b5-4cb6-ba96-58e7fe299ede"
      },
      "execution_count": null,
      "outputs": [
        {
          "output_type": "execute_result",
          "data": {
            "text/plain": [
              "7894165001"
            ]
          },
          "metadata": {},
          "execution_count": 6
        }
      ]
    },
    {
      "cell_type": "code",
      "source": [
        "# create account number\n",
        "bank = {}\n",
        "preset_acc_num = 7894165000\n",
        "\n",
        "def create_acc_number(bank_obj):\n",
        "  return len(bank_obj) + preset_acc_num + 1"
      ],
      "metadata": {
        "id": "e_pkB7lOkbBV"
      },
      "execution_count": null,
      "outputs": []
    },
    {
      "cell_type": "code",
      "source": [
        "# create account\n",
        "\n",
        "from random import randint\n",
        "def create_new_account(acc_num, **details):\n",
        "  d = {\n",
        "      'pin': randint(1000, 9999),\n",
        "       'transactions': [],\n",
        "  }\n",
        "\n",
        "  d.update(details)\n",
        "  bank[acc_num] = d"
      ],
      "metadata": {
        "id": "n9cVjrSPku39"
      },
      "execution_count": null,
      "outputs": []
    },
    {
      "cell_type": "code",
      "source": [
        "# transactions preset\n",
        "\n",
        "from datetime import datetime\n",
        "def transaction(amount, tr_type):\n",
        "  d = {\n",
        "      'datetime': datetime.now(),\n",
        "       'amount': amount,\n",
        "       'tr_type': tr_type,\n",
        "  }\n",
        "  return d"
      ],
      "metadata": {
        "id": "RM15Xusklh1G"
      },
      "execution_count": null,
      "outputs": []
    },
    {
      "cell_type": "code",
      "source": [
        "# check methods\n",
        "\n",
        "create_acc_number(bank)"
      ],
      "metadata": {
        "colab": {
          "base_uri": "https://localhost:8080/"
        },
        "id": "lYu4hH_Hmms-",
        "outputId": "b308d877-1383-4320-9c87-1b281c1f9cc0"
      },
      "execution_count": null,
      "outputs": [
        {
          "output_type": "execute_result",
          "data": {
            "text/plain": [
              "7894165001"
            ]
          },
          "metadata": {},
          "execution_count": 11
        }
      ]
    },
    {
      "cell_type": "code",
      "source": [
        "bank = {}\n",
        "\n",
        "acc_num = create_acc_number(bank)\n",
        "\n",
        "init_balance = 1000.0\n",
        "\n",
        "\n",
        "create_new_account(acc_num, name='parth', balance=init_balance)\n",
        "\n",
        "txn = transaction(init_balance, 'cr')\n",
        "bank[acc_num]['transactions'].append(txn)"
      ],
      "metadata": {
        "id": "fGiK3ji9mydc"
      },
      "execution_count": null,
      "outputs": []
    },
    {
      "cell_type": "code",
      "source": [
        "bank"
      ],
      "metadata": {
        "colab": {
          "base_uri": "https://localhost:8080/"
        },
        "id": "vcWV-ScEnfU7",
        "outputId": "67643451-37f6-44fd-ac72-abcd5b56343f"
      },
      "execution_count": null,
      "outputs": [
        {
          "output_type": "execute_result",
          "data": {
            "text/plain": [
              "{7894165001: {'balance': 1000.0,\n",
              "  'name': 'parth',\n",
              "  'pin': 3459,\n",
              "  'transactions': [{'amount': 1000.0,\n",
              "    'datetime': datetime.datetime(2022, 5, 7, 13, 11, 45, 775985),\n",
              "    'tr_type': 'cr'}]}}"
            ]
          },
          "metadata": {},
          "execution_count": 27
        }
      ]
    },
    {
      "cell_type": "code",
      "source": [
        "acc_num = create_acc_number(bank)\n",
        "\n",
        "init_balance = 1000.0\n",
        "\n",
        "create_new_account(acc_num, name='parth', balance=init_balance)\n",
        "\n",
        "txn = transaction(init_balance, 'cr')\n",
        "bank[acc_num]['transactions'].append(txn)"
      ],
      "metadata": {
        "id": "0j9Gaurgngm7"
      },
      "execution_count": null,
      "outputs": []
    },
    {
      "cell_type": "code",
      "source": [
        "bank"
      ],
      "metadata": {
        "colab": {
          "base_uri": "https://localhost:8080/"
        },
        "id": "XeZB_akJnsy7",
        "outputId": "0bdf4385-3425-4786-b155-d4aa989cad73"
      },
      "execution_count": null,
      "outputs": [
        {
          "output_type": "execute_result",
          "data": {
            "text/plain": [
              "{7894165001: {'balance': 1000.0,\n",
              "  'name': 'parth',\n",
              "  'pin': 5474,\n",
              "  'transactions': [{'amount': 1000.0,\n",
              "    'datetime': datetime.datetime(2022, 5, 7, 13, 11, 58, 746406),\n",
              "    'tr_type': 'cr'}]},\n",
              " 7894165002: {'balance': 1000.0,\n",
              "  'name': 'parth',\n",
              "  'pin': 3713,\n",
              "  'transactions': [{'amount': 1000.0,\n",
              "    'datetime': datetime.datetime(2022, 5, 7, 13, 12, 13, 658443),\n",
              "    'tr_type': 'cr'}]}}"
            ]
          },
          "metadata": {},
          "execution_count": 31
        }
      ]
    },
    {
      "cell_type": "code",
      "source": [
        "# widthdrawl\n",
        "\n",
        "def widthdrawl(acc_num, amount):\n",
        "  bank[acc_num]['balance'] -= amount\n",
        "  txn = transaction(amount, 'dr')\n",
        "  bank[acc_num]['transactions'].append(txn)"
      ],
      "metadata": {
        "id": "EPkgzFJtntbz"
      },
      "execution_count": null,
      "outputs": []
    },
    {
      "cell_type": "code",
      "source": [
        "widthdrawl(7894165001, 500)"
      ],
      "metadata": {
        "id": "oGShubaJpnk8"
      },
      "execution_count": null,
      "outputs": []
    },
    {
      "cell_type": "code",
      "source": [
        "bank"
      ],
      "metadata": {
        "colab": {
          "base_uri": "https://localhost:8080/"
        },
        "id": "CoBJs0PtpsUs",
        "outputId": "fdedaf2a-1209-45bc-cf44-2ec2668bd35c"
      },
      "execution_count": null,
      "outputs": [
        {
          "output_type": "execute_result",
          "data": {
            "text/plain": [
              "{7894165001: {'balance': 500.0,\n",
              "  'name': 'parth',\n",
              "  'pin': 5474,\n",
              "  'transactions': [{'amount': 1000.0,\n",
              "    'datetime': datetime.datetime(2022, 5, 7, 13, 11, 58, 746406),\n",
              "    'tr_type': 'cr'},\n",
              "   {'amount': 500,\n",
              "    'datetime': datetime.datetime(2022, 5, 7, 13, 12, 51, 686558),\n",
              "    'tr_type': 'dr'}]},\n",
              " 7894165002: {'balance': 1000.0,\n",
              "  'name': 'parth',\n",
              "  'pin': 3713,\n",
              "  'transactions': [{'amount': 1000.0,\n",
              "    'datetime': datetime.datetime(2022, 5, 7, 13, 12, 13, 658443),\n",
              "    'tr_type': 'cr'}]}}"
            ]
          },
          "metadata": {},
          "execution_count": 34
        }
      ]
    },
    {
      "cell_type": "code",
      "source": [
        "def deposite(acc_num, amount):\n",
        "  bank[acc_num]['balance'] += amount\n",
        "  txn = transaction(amount, 'cr')\n",
        "  bank[acc_num]['transactions'].append(txn)"
      ],
      "metadata": {
        "id": "gfC05JgvptLM"
      },
      "execution_count": null,
      "outputs": []
    },
    {
      "cell_type": "code",
      "source": [
        "deposite(7894165001, 10500)"
      ],
      "metadata": {
        "id": "0ZoQPGZyqBe8"
      },
      "execution_count": null,
      "outputs": []
    },
    {
      "cell_type": "code",
      "source": [
        "bank"
      ],
      "metadata": {
        "colab": {
          "base_uri": "https://localhost:8080/"
        },
        "id": "jKAQuT9-qEEE",
        "outputId": "9c2b6bb5-6be2-44b9-bba4-480efcd2cbdf"
      },
      "execution_count": null,
      "outputs": [
        {
          "output_type": "execute_result",
          "data": {
            "text/plain": [
              "{7894165001: {'balance': 21500.0,\n",
              "  'name': 'parth',\n",
              "  'pin': 5474,\n",
              "  'transactions': [{'amount': 1000.0,\n",
              "    'datetime': datetime.datetime(2022, 5, 7, 13, 11, 58, 746406),\n",
              "    'tr_type': 'cr'},\n",
              "   {'amount': 500,\n",
              "    'datetime': datetime.datetime(2022, 5, 7, 13, 12, 51, 686558),\n",
              "    'tr_type': 'dr'},\n",
              "   {'amount': 10500,\n",
              "    'datetime': datetime.datetime(2022, 5, 7, 13, 14, 28, 915155),\n",
              "    'tr_type': 'dr'},\n",
              "   {'amount': 10500,\n",
              "    'datetime': datetime.datetime(2022, 5, 7, 13, 14, 39, 187982),\n",
              "    'tr_type': 'cr'},\n",
              "   {'amount': 10500,\n",
              "    'datetime': datetime.datetime(2022, 5, 7, 13, 16, 42, 158915),\n",
              "    'tr_type': 'cr'}]},\n",
              " 7894165002: {'balance': 1000.0,\n",
              "  'name': 'parth',\n",
              "  'pin': 3713,\n",
              "  'transactions': [{'amount': 1000.0,\n",
              "    'datetime': datetime.datetime(2022, 5, 7, 13, 12, 13, 658443),\n",
              "    'tr_type': 'cr'}]}}"
            ]
          },
          "metadata": {},
          "execution_count": 45
        }
      ]
    },
    {
      "cell_type": "code",
      "source": [
        "bank[7894165001]['balance']"
      ],
      "metadata": {
        "colab": {
          "base_uri": "https://localhost:8080/"
        },
        "id": "mZv-KKgLqHc8",
        "outputId": "abb1156b-c711-4e45-937f-678b52151b0b"
      },
      "execution_count": null,
      "outputs": [
        {
          "output_type": "execute_result",
          "data": {
            "text/plain": [
              "500.0"
            ]
          },
          "metadata": {},
          "execution_count": 39
        }
      ]
    },
    {
      "cell_type": "code",
      "source": [
        "bank[7894165001]['balance'] + 10500"
      ],
      "metadata": {
        "colab": {
          "base_uri": "https://localhost:8080/"
        },
        "id": "z39em8Woqa3E",
        "outputId": "c0b786c6-b0bd-48e3-ee01-a4716da24f78"
      },
      "execution_count": null,
      "outputs": [
        {
          "output_type": "execute_result",
          "data": {
            "text/plain": [
              "11000.0"
            ]
          },
          "metadata": {},
          "execution_count": 40
        }
      ]
    },
    {
      "cell_type": "code",
      "source": [
        "bank[7894165001]['balance'] += 10500"
      ],
      "metadata": {
        "id": "qa3Q5393qduE"
      },
      "execution_count": null,
      "outputs": []
    },
    {
      "cell_type": "code",
      "source": [
        "bank[7894165001]['balance']"
      ],
      "metadata": {
        "colab": {
          "base_uri": "https://localhost:8080/"
        },
        "id": "TdCPKDiaqgpM",
        "outputId": "8906c380-0d50-4bf1-86b3-34e307a75606"
      },
      "execution_count": null,
      "outputs": [
        {
          "output_type": "execute_result",
          "data": {
            "text/plain": [
              "11000.0"
            ]
          },
          "metadata": {},
          "execution_count": 42
        }
      ]
    },
    {
      "cell_type": "code",
      "source": [
        "acc = input('enter your account number: ')\n",
        "\n"
      ],
      "metadata": {
        "id": "kHlqMSYbqh87"
      },
      "execution_count": null,
      "outputs": []
    }
  ]
}