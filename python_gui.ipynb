{
 "cells": [
  {
   "cell_type": "markdown",
   "metadata": {},
   "source": [
    "# GUI - Graphical User Interface\n",
    "\n",
    "## What is GUI?\n",
    "### GUI stands for Graphical User Interface. This is a type of user interface where user interacts with the computer graphics.\n",
    "\n",
    "### GUI Objects:\n",
    "> * Icons\n",
    "> * Images\n",
    "> * Navigations or navigation bars\n",
    "> * Buttons\n",
    "> * Dropdown list\n",
    "> * Checkboxes\n",
    "> * Radio Buttons\n",
    "> * Input boxes and text boxes\n",
    "> * Hyperlink\n",
    "\n",
    "## GUI Plateforms\n",
    "> * Operating System - Windows, macOS, linux.\n",
    "> * Web Applications\n",
    "\n",
    "## GUI with Python\n",
    "### Python provides a gui library called tkinter also known as tk interface.\n",
    "\n",
    "### >>> import tkinter\n",
    "### >>> print(dir(tkinter))"
   ]
  },
  {
   "cell_type": "code",
   "execution_count": 13,
   "metadata": {},
   "outputs": [
    {
     "name": "stdout",
     "output_type": "stream",
     "text": [
      "welcome !\n"
     ]
    }
   ],
   "source": [
    "# first gui window\n",
    "\n",
    "import tkinter\n",
    "from tkinter import messagebox\n",
    "\n",
    "window = tkinter.Tk()\n",
    "\n",
    "# set the main title of window\n",
    "window.title(\"My First GUI\")\n",
    "\n",
    "# set the dimension width x height\n",
    "window.geometry(\"300x200\")\n",
    "\n",
    "# disable resize\n",
    "window.resizable(False, False)\n",
    "\n",
    "# add a label to inside the window\n",
    "lbl = tkinter.Label(window, text=\"Name\")\n",
    "# set the cordinates for the label\n",
    "lbl.place(x=20, y=20)\n",
    "\n",
    "# add an input box\n",
    "name_input = tkinter.Entry()\n",
    "name_input.place(x=20, y=40)\n",
    "\n",
    "# creating a function for button click event\n",
    "def button_cmd():\n",
    "    name = name_input.get()\n",
    "    # showwarning\n",
    "    # showerror\n",
    "    messagebox.showwarning('Success', f'welcome {name}!')\n",
    "    print(f'welcome {name}!')\n",
    "\n",
    "# add a button\n",
    "btn = tkinter.Button(window, text='Submit', command=button_cmd)\n",
    "btn.place(x=20, y=60)\n",
    "\n",
    "# run\n",
    "window.mainloop()"
   ]
  },
  {
   "cell_type": "code",
   "execution_count": 18,
   "metadata": {},
   "outputs": [],
   "source": [
    "# task solution\n",
    "\n",
    "import tkinter\n",
    "from tkinter import messagebox\n",
    "\n",
    "window = tkinter.Tk()\n",
    "\n",
    "# set the main title of window\n",
    "window.title(\"My First GUI\")\n",
    "\n",
    "# set the dimension width x height\n",
    "window.geometry(\"300x200\")\n",
    "\n",
    "# disable resize\n",
    "window.resizable(False, False)\n",
    "\n",
    "# add a label to inside the window\n",
    "lbl = tkinter.Label(window, text=\"Name\")\n",
    "# set the cordinates for the label\n",
    "lbl.place(x=20, y=20)\n",
    "\n",
    "# add an input box\n",
    "name_input = tkinter.Entry()\n",
    "name_input.place(x=20, y=40)\n",
    "\n",
    "# creating a function for button click event\n",
    "def button_cmd():\n",
    "    name = name_input.get()\n",
    "    if name:\n",
    "        if name.isidentifier():\n",
    "            messagebox.showinfo('Success', f'welcome {name}!')\n",
    "        else:\n",
    "            messagebox.showwarning('Invalid Input', 'Please enter valid username.')\n",
    "    else:\n",
    "        messagebox.showerror('Required', \"name must be filled.\")\n",
    "\n",
    "# add a button\n",
    "btn = tkinter.Button(window, text='Submit', command=button_cmd)\n",
    "btn.place(x=20, y=60)\n",
    "\n",
    "# run\n",
    "window.mainloop()"
   ]
  },
  {
   "cell_type": "code",
   "execution_count": 2,
   "metadata": {},
   "outputs": [
    {
     "data": {
      "text/plain": [
       "True"
      ]
     },
     "execution_count": 2,
     "metadata": {},
     "output_type": "execute_result"
    }
   ],
   "source": [
    "'aldfkjadf4654'.isalnum()"
   ]
  },
  {
   "cell_type": "code",
   "execution_count": 8,
   "metadata": {},
   "outputs": [
    {
     "data": {
      "text/plain": [
       "97"
      ]
     },
     "execution_count": 8,
     "metadata": {},
     "output_type": "execute_result"
    }
   ],
   "source": [
    "ord('a')"
   ]
  },
  {
   "cell_type": "code",
   "execution_count": 9,
   "metadata": {},
   "outputs": [
    {
     "data": {
      "text/plain": [
       "96"
      ]
     },
     "execution_count": 9,
     "metadata": {},
     "output_type": "execute_result"
    }
   ],
   "source": [
    "ord('`')"
   ]
  },
  {
   "cell_type": "code",
   "execution_count": 10,
   "metadata": {},
   "outputs": [
    {
     "data": {
      "text/plain": [
       "49"
      ]
     },
     "execution_count": 10,
     "metadata": {},
     "output_type": "execute_result"
    }
   ],
   "source": [
    "ord('1')"
   ]
  },
  {
   "cell_type": "code",
   "execution_count": 11,
   "metadata": {},
   "outputs": [
    {
     "data": {
      "text/plain": [
       "33"
      ]
     },
     "execution_count": 11,
     "metadata": {},
     "output_type": "execute_result"
    }
   ],
   "source": [
    "ord('!')"
   ]
  },
  {
   "cell_type": "code",
   "execution_count": 14,
   "metadata": {},
   "outputs": [
    {
     "name": "stdout",
     "output_type": "stream",
     "text": [
      "! \" # $ % & ' ( ) * + "
     ]
    }
   ],
   "source": [
    "for i in range(33, 44):\n",
    "    print(chr(i), end=\" \")"
   ]
  },
  {
   "cell_type": "code",
   "execution_count": 17,
   "metadata": {},
   "outputs": [
    {
     "data": {
      "text/plain": [
       "45"
      ]
     },
     "execution_count": 17,
     "metadata": {},
     "output_type": "execute_result"
    }
   ],
   "source": [
    "ord('-')"
   ]
  },
  {
   "cell_type": "code",
   "execution_count": 24,
   "metadata": {},
   "outputs": [],
   "source": [
    "# event handling\n",
    "import tkinter\n",
    "\n",
    "window = tkinter.Tk()\n",
    "\n",
    "def handle_keypress(event):\n",
    "    messagebox.showinfo('Event', \"button clicked and key pressed\")\n",
    "\n",
    "def btn_cmd():\n",
    "    handle_keypress(0)\n",
    "\n",
    "button = tkinter.Button(text='Click here', command=btn_cmd)\n",
    "button.place(x=20, y=90)\n",
    "\n",
    "window.bind('b', handle_keypress)\n",
    "window.mainloop()"
   ]
  },
  {
   "cell_type": "code",
   "execution_count": 25,
   "metadata": {},
   "outputs": [],
   "source": [
    "# plus minus concept\n",
    "\n",
    "window = tkinter.Tk()\n",
    "\n",
    "window.rowconfigure(0, minsize=50, weight=1)\n",
    "window.columnconfigure([0,1,2], minsize=50, weight=1)\n",
    "\n",
    "def minus(e=None):\n",
    "    val = int(value.cget('text'))\n",
    "    if val > 1:\n",
    "        val -= 1\n",
    "    value['text'] = val\n",
    "    \n",
    "def plus(e=None):\n",
    "    val = int(value.cget('text'))\n",
    "    value['text'] = val + 1\n",
    "\n",
    "# def m():\n",
    "#     minus('')\n",
    "\n",
    "# def p():\n",
    "#     plus('')\n",
    "\n",
    "btn_minus = tkinter.Button(window, text='-', command=minus)\n",
    "btn_minus.grid(row=0, column=0)\n",
    "\n",
    "value = tkinter.Label(window, text=\"1\")\n",
    "value.grid(row=0, column=1)\n",
    "\n",
    "btn_plus = tkinter.Button(window, text='+', command=plus)\n",
    "btn_plus.grid(row=0, column=2)\n",
    "\n",
    "window.bind('-', minus)\n",
    "window.bind('+', plus)\n",
    "\n",
    "window.mainloop()"
   ]
  },
  {
   "cell_type": "code",
   "execution_count": null,
   "metadata": {},
   "outputs": [],
   "source": []
  }
 ],
 "metadata": {
  "interpreter": {
   "hash": "ef7f9a8012d9131766e31894c279374cc63c73121ed4db3b9e67a294a4bf0e74"
  },
  "kernelspec": {
   "display_name": "Python 3.9.7 ('base')",
   "language": "python",
   "name": "python3"
  },
  "language_info": {
   "codemirror_mode": {
    "name": "ipython",
    "version": 3
   },
   "file_extension": ".py",
   "mimetype": "text/x-python",
   "name": "python",
   "nbconvert_exporter": "python",
   "pygments_lexer": "ipython3",
   "version": "3.9.7"
  },
  "orig_nbformat": 4
 },
 "nbformat": 4,
 "nbformat_minor": 2
}
