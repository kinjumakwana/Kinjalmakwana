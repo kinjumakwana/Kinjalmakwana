{
 "cells": [
  {
   "cell_type": "code",
   "execution_count": 1,
   "id": "48601199-996e-422f-87f5-e81aa9af8992",
   "metadata": {},
   "outputs": [
    {
     "name": "stdout",
     "output_type": "stream",
     "text": [
      "hello\n"
     ]
    }
   ],
   "source": [
    "print('hello')"
   ]
  },
  {
   "cell_type": "markdown",
   "id": "41f95ccb-4e3e-4a71-95c5-238dad85c501",
   "metadata": {},
   "source": [
    "# hello"
   ]
  },
  {
   "cell_type": "markdown",
   "id": "53e2bcdf-3b33-48ae-bc4d-5fba6e942a81",
   "metadata": {},
   "source": [
    "## hello"
   ]
  },
  {
   "cell_type": "code",
   "execution_count": 4,
   "id": "5c2c7b01-e6de-4270-93a8-7a781c5ae26d",
   "metadata": {},
   "outputs": [
    {
     "name": "stdout",
     "output_type": "stream",
     "text": [
      "ritesh\n"
     ]
    }
   ],
   "source": [
    "print('ritesh')"
   ]
  },
  {
   "cell_type": "code",
   "execution_count": 2,
   "id": "317e80ff-10a0-46f9-ab06-8fe865f2b31e",
   "metadata": {},
   "outputs": [
    {
     "name": "stdout",
     "output_type": "stream",
     "text": [
      "kinjal\n"
     ]
    }
   ],
   "source": [
    "print('kinjal')"
   ]
  },
  {
   "cell_type": "markdown",
   "id": "0db0a2d4-2031-45de-ad70-cd02b80e5d39",
   "metadata": {},
   "source": [
    "#kinjal\n"
   ]
  }
 ],
 "metadata": {
  "kernelspec": {
   "display_name": "Python 3 (ipykernel)",
   "language": "python",
   "name": "python3"
  },
  "language_info": {
   "codemirror_mode": {
    "name": "ipython",
    "version": 3
   },
   "file_extension": ".py",
   "mimetype": "text/x-python",
   "name": "python",
   "nbconvert_exporter": "python",
   "pygments_lexer": "ipython3",
   "version": "3.9.7"
  }
 },
 "nbformat": 4,
 "nbformat_minor": 5
}
